{
 "cells": [
  {
   "cell_type": "code",
   "execution_count": 30,
   "metadata": {
    "collapsed": false
   },
   "outputs": [
    {
     "name": "stdout",
     "output_type": "stream",
     "text": [
      "done~ writing  146178  lines of movie data\n"
     ]
    }
   ],
   "source": [
    "import json\n",
    "import os\n",
    "from elasticsearch import Elasticsearch\n",
    "\n",
    "FILE = os.environ['DATA_PATH']\n",
    "ES_URL = 'http://192.168.11.2:9201'\n",
    "_scrollId = ''\n",
    "_cArray = []\n",
    "\n",
    "\n",
    "def _convertJsonToString(jHits):\n",
    "    for _hits in jHits:\n",
    "        _cArray.append(json.dumps(_hits['_source']))\n",
    "    \n",
    "\n",
    "# 0. setup ES\n",
    "es = Elasticsearch(hosts=[ES_URL])\n",
    "\n",
    "# 1. run search with scroll\n",
    "res = es.search(index='movies_4_blogs', doc_type='_doc', scroll='1m', size=1000)\n",
    "_scrollId = res['_scroll_id']\n",
    "_jContent = res['hits']['hits']\n",
    "\n",
    "# 2. convert json to string \n",
    "_convertJsonToString(_jContent)\n",
    "\n",
    "# 3. loop the scroll till end of time...\n",
    "while 1==1:\n",
    "    res = es.scroll(scroll_id=_scrollId, scroll='1m')\n",
    "    _scrollId = res['_scroll_id']\n",
    "    _jContent = res['hits']['hits']\n",
    "    \n",
    "    # break condition\n",
    "    if len(_jContent) == 0:\n",
    "        break\n",
    "    \n",
    "    _convertJsonToString(_jContent)\n",
    "\n",
    "# x. clear the last scroll\n",
    "es.clear_scroll(scroll_id=_scrollId)\n",
    "\n",
    "# 4. write to file\n",
    "file = open(FILE, 'a')\n",
    "for _json in _cArray:\n",
    "    file.write(_json)\n",
    "    file.write('\\n')\n",
    "\n",
    "print('done~ writing ', len(_cArray), ' lines of movie data')\n",
    "\n",
    "\n",
    "\n",
    "\n"
   ]
  },
  {
   "cell_type": "code",
   "execution_count": null,
   "metadata": {
    "collapsed": true
   },
   "outputs": [],
   "source": [
    "\n",
    "\n"
   ]
  }
 ],
 "metadata": {
  "kernelspec": {
   "display_name": "Python 3",
   "language": "python",
   "name": "python3"
  },
  "language_info": {
   "codemirror_mode": {
    "name": "ipython",
    "version": 3
   },
   "file_extension": ".py",
   "mimetype": "text/x-python",
   "name": "python",
   "nbconvert_exporter": "python",
   "pygments_lexer": "ipython3",
   "version": "3.6.3"
  }
 },
 "nbformat": 4,
 "nbformat_minor": 2
}
