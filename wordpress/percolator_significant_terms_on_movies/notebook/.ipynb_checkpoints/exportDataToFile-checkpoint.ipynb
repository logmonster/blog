{
 "cells": [
  {
   "cell_type": "code",
   "execution_count": 27,
   "metadata": {
    "collapsed": false
   },
   "outputs": [
    {
     "name": "stdout",
     "output_type": "stream",
     "text": [
      "hi\n"
     ]
    },
    {
     "data": {
      "text/plain": [
       "{'num_freed': 1, 'succeeded': True}"
      ]
     },
     "execution_count": 27,
     "metadata": {},
     "output_type": "execute_result"
    }
   ],
   "source": [
    "import json\n",
    "from elasticsearch import Elasticsearch\n",
    "\n",
    "ES_URL = 'http://192.168.11.2:9201'\n",
    "_scrollId = ''\n",
    "_cArray = []\n",
    "\n",
    "\n",
    "def _convertJsonToString(jHits):\n",
    "    for _hits in jHits:\n",
    "        _cArray.append(json.dumps(_hits['_source']))\n",
    "    \n",
    "\n",
    "# 0. setup ES\n",
    "es = Elasticsearch(hosts=[ES_URL])\n",
    "\n",
    "# 1. run search with scroll\n",
    "res = es.search(index='movies_4_blogs', doc_type='_doc', scroll='1m', size=1000)\n",
    "_scrollId = res['_scroll_id']\n",
    "_jContent = res['hits']['hits']\n",
    "\n",
    "# 2. convert json to string \n",
    "_convertJsonToString(_jContent)\n",
    "\n",
    "# 3. loop the scroll till end of time...\n",
    "while 1==1:\n",
    "    \n",
    "    break\n",
    "\n",
    "\n",
    "# x. clear the last scroll\n",
    "es.clear_scroll(scroll_id=_scrollId)\n",
    "\n",
    "\n",
    "\n",
    "\n"
   ]
  },
  {
   "cell_type": "code",
   "execution_count": null,
   "metadata": {
    "collapsed": true
   },
   "outputs": [],
   "source": [
    "\n",
    "\n"
   ]
  }
 ],
 "metadata": {
  "kernelspec": {
   "display_name": "Python 3",
   "language": "python",
   "name": "python3"
  },
  "language_info": {
   "codemirror_mode": {
    "name": "ipython",
    "version": 3
   },
   "file_extension": ".py",
   "mimetype": "text/x-python",
   "name": "python",
   "nbconvert_exporter": "python",
   "pygments_lexer": "ipython3",
   "version": "3.6.3"
  }
 },
 "nbformat": 4,
 "nbformat_minor": 2
}
